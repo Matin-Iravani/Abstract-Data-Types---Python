{
 "cells": [
  {
   "cell_type": "code",
   "execution_count": 1,
   "metadata": {},
   "outputs": [],
   "source": [
    "from stack import Stack"
   ]
  },
  {
   "cell_type": "markdown",
   "metadata": {},
   "source": [
    "#### This is the Parahthesis checker algorithm which uses Stack inorder to check whether a statement of paranthesis are balanced and ordered or not.\n",
    "Algorithm:\n",
    "- Pushes to Stack whnever sees a par of open type \n",
    "- pops from Stack whenever sees a par of close type\n",
    "- mathces the par types and if not matched, sets balanced to False\n",
    "- Continues until statement is itterated over. \n",
    "- If at the end the Stack is empty and balanced is set to True, the statement has correct paranthesis use."
   ]
  },
  {
   "cell_type": "code",
   "execution_count": 2,
   "metadata": {},
   "outputs": [
    {
     "name": "stdout",
     "output_type": "stream",
     "text": [
      "True\n",
      "False\n"
     ]
    }
   ],
   "source": [
    "def parChecker(statement):\n",
    "    index = 0\n",
    "    opening = '([{'\n",
    "    closing = ')]}'\n",
    "    stack = Stack()\n",
    "    balanced = True\n",
    "\n",
    "    while index < len(statement) and balanced:\n",
    "        token = statement[index]\n",
    "\n",
    "        if token in opening:\n",
    "            stack.push(token)\n",
    "        else:\n",
    "            if stack.isEmpty():\n",
    "                balanced = False\n",
    "            elif token in closing:\n",
    "                closes = token\n",
    "                opens = stack.pop()\n",
    "                balanced = opening.index(opens) == closing.index(closes)\n",
    "        index += 1\n",
    "    \n",
    "    return stack.isEmpty() and balanced\n",
    "\n",
    "print(parChecker('()((({{{[[[]]]}}})))'))  #True\n",
    "print(parChecker('()((({{{[{[}[]]]}}})))'))  #False"
   ]
  },
  {
   "cell_type": "markdown",
   "metadata": {},
   "source": [
    "#### This is the Maze Solver algorithm using Stack which uses the (depth first search method) to traverse the maze -> it travels fully through a path before exploring the rest.\n",
    "Algorithm:\n",
    "- Pushes any valid moves onto stack\n",
    "- Pops from stack a move and sets it to current\n",
    "- If stack is empty (ie. there were walls and no valid paths left) it sets current to None\n",
    "- Continues until current is not None or current is not equal to finish 'F'\n",
    "- At the end if current is 'F' than maze has been traversed and if not than the maze is not solvable."
   ]
  },
  {
   "cell_type": "code",
   "execution_count": 3,
   "metadata": {},
   "outputs": [
    {
     "name": "stdout",
     "output_type": "stream",
     "text": [
      "{'P0': ['P1'],\n",
      " 'P1': ['P2', 'P6'],\n",
      " 'P10': ['P11'],\n",
      " 'P11': [''],\n",
      " 'P2': ['P3'],\n",
      " 'P3': ['P4'],\n",
      " 'P4': ['P5'],\n",
      " 'P5': [''],\n",
      " 'P6': ['P10', 'P7'],\n",
      " 'P7': ['P8'],\n",
      " 'P8': ['P9'],\n",
      " 'P9': ['F'],\n",
      " 'S': ['P0']}\n"
     ]
    }
   ],
   "source": [
    "from pprint import pprint\n",
    "\n",
    "def getNextMoves(filename: str) -> dict:\n",
    "    '''\n",
    "    This function just opens a maze.txt inside the mazes folder and turns the info into\n",
    "    a dictionary as printed bellow...\n",
    "    '''\n",
    "    moves = {}\n",
    "    with open(filename, \"r\") as file:\n",
    "        content = file.readlines()\n",
    "\n",
    "    for line in content:\n",
    "        line = line.strip().split(':')\n",
    "        key, val = line\n",
    "        moves[key] = moves.get(key,[]) + [val]\n",
    "    pprint(moves)\n",
    "    return moves\n",
    "\n",
    "moves = getNextMoves('mazes\\maze1.txt') # <- choose a file of your choice by changing the maze number\n",
    "\n",
    "#'''NOTE maze 1 and 3 are solvable and maze 2 is not solvable'''"
   ]
  },
  {
   "cell_type": "code",
   "execution_count": 4,
   "metadata": {},
   "outputs": [
    {
     "name": "stdout",
     "output_type": "stream",
     "text": [
      "Maze Solvable\n",
      "['S', 'P0', 'P1', 'P6', 'P7', 'P8', 'P9']\n",
      "True\n"
     ]
    }
   ],
   "source": [
    "\n",
    "def mazeSolver(moves: dict):\n",
    "    stack = Stack()\n",
    "    current = 'S'\n",
    "    visited = []\n",
    "\n",
    "    while current != None and current != 'F':\n",
    "        visited.append(current)  # set current as visited\n",
    "        nextMoves = moves[current]  # gets a list of next moves\n",
    "\n",
    "        # push valid moves to stack\n",
    "        for move in nextMoves:\n",
    "            if move != '':  # '' indicates a wall\n",
    "                stack.push(move)\n",
    "        \n",
    "        try:\n",
    "            current = stack.pop()\n",
    "        except Exception:\n",
    "            # if stack is empty it sets current to Null\n",
    "            current = None\n",
    "    \n",
    "    # checks current is F\n",
    "    if current == 'F':\n",
    "        print('Maze Solvable')\n",
    "        print(visited)\n",
    "        return True\n",
    "    \n",
    "    print('Maze cannot be solved')\n",
    "    return False\n",
    "\n",
    "result = mazeSolver(moves)\n",
    "print(result)"
   ]
  },
  {
   "cell_type": "markdown",
   "metadata": {},
   "source": [
    "#### This algorithm is for turning an infix expression into a postfix expression using a Stack\n",
    "Algorithm:\n",
    "- Go through each token in the infix expression\n",
    "- if token is an opening paranthesis, push it to stack\n",
    "- if token is closing paranthesis, pop from stack until the opening par is poped and append the poped items (in order of poped) to result list\n",
    "- if token is operator, first pop any operators from stack with higher or equal precedence as the token now -> append them to result list -> and than push the token to stack.\n",
    "- if token is operand simply append to result\n",
    "- after going through all tokens, empty out stack if any items left onto result list\n",
    "- join result list and there is the postfix expression!"
   ]
  },
  {
   "cell_type": "code",
   "execution_count": 5,
   "metadata": {},
   "outputs": [
    {
     "name": "stdout",
     "output_type": "stream",
     "text": [
      "5 6 / 1 + 12 100 * - 1 2 - +\n",
      "5 5 5 * + 5 2 - -\n",
      "X Y Z * +\n"
     ]
    }
   ],
   "source": [
    "import string\n",
    "\n",
    "def infixToPostfix(statement):\n",
    "    tokens = statement.split()\n",
    "    stack = Stack()\n",
    "    prec = {'+':2, '-':2, '*':3, '/':3, '(':1}\n",
    "    digit = [str(i) for i in range(1000)]\n",
    "    alpha = string.ascii_uppercase  # gets uppercase Alphabet\n",
    "\n",
    "    result = []\n",
    "\n",
    "    for token in tokens:\n",
    "        if token in alpha or token in digit:\n",
    "            result.append(token)\n",
    "\n",
    "        elif token == '(':\n",
    "            stack.push(token)\n",
    "        \n",
    "        elif token == ')':\n",
    "            poped = stack.pop()\n",
    "            while not stack.isEmpty() and poped != '(':\n",
    "                result.append(poped)\n",
    "                poped = stack.pop()\n",
    "        \n",
    "        else:  # if token is operator\n",
    "            while not stack.isEmpty() and prec[stack.peek()] >= prec[token]:\n",
    "                result.append(stack.pop())\n",
    "            stack.push(token)\n",
    "\n",
    "    # empty rest of stack operators onto result\n",
    "    while not stack.isEmpty():\n",
    "        result.append(stack.pop())\n",
    "\n",
    "    return ' '.join(result)\n",
    "\n",
    "print(infixToPostfix('5 / 6 + 1 - 12 * 100 + ( 1 - 2 )'))\n",
    "print(infixToPostfix('5 + 5 * 5 - ( 5 - 2 )'))\n",
    "print(infixToPostfix('X + Y * Z'))\n",
    "\n",
    "#NOTE Make sure to enter a statement with spaces between every token!"
   ]
  },
  {
   "cell_type": "markdown",
   "metadata": {},
   "source": [
    "#### This algorithm uses a Stack to evaluate a postfix expression\n",
    "Algorithim:\n",
    "- Go through each token in the expression\n",
    "- If the token is an operand, this time push it to stack\n",
    "- If the token is an operator, pop from stack operand2 than pop from stack operand1 and evaluate the expression concidering the token now is the operator -> then push to stack the result of operation\n",
    "- At the end, the pop the final result from stack!"
   ]
  },
  {
   "cell_type": "code",
   "execution_count": 6,
   "metadata": {},
   "outputs": [
    {
     "name": "stdout",
     "output_type": "stream",
     "text": [
      "-1199.1666666666667\n",
      "27\n"
     ]
    }
   ],
   "source": [
    "def evaluatePostfix(statement):\n",
    "    tokens = statement.split()\n",
    "    stack = Stack()\n",
    "    digit = [str(i) for i in range(1000)]\n",
    "    \n",
    "    result = []\n",
    "\n",
    "    for token in tokens:\n",
    "        if token in digit:\n",
    "            stack.push(token)\n",
    "\n",
    "        else:\n",
    "            operator = token\n",
    "            operand2 = stack.pop()\n",
    "            operand1 = stack.pop()\n",
    "            result = eval(operand1 + operator + operand2) # evaluates \n",
    "\n",
    "            stack.push(str(result)) # pushes a string of result to stack\n",
    "    \n",
    "    return stack.pop()\n",
    "\n",
    "print(evaluatePostfix('5 6 / 1 + 12 100 * - 1 2 - +'))\n",
    "print(evaluatePostfix('5 5 5 * + 5 2 - -'))"
   ]
  },
  {
   "cell_type": "markdown",
   "metadata": {},
   "source": [
    "#### This Algorithm uses Stack to find the prefix Expression being given an infix expression\n",
    "Algorithm:\n",
    "- First reverses the infix expression and turns any '(' into ')' and vise versa\n",
    "- Does similar steps to evaluating postix however when comparing precedence for operators, it only pops from stack if top of stack has an operator with higher prec and not equal to\n",
    "- reverses the result list and there is the infix Expression!"
   ]
  },
  {
   "cell_type": "code",
   "execution_count": 7,
   "metadata": {},
   "outputs": [
    {
     "name": "stdout",
     "output_type": "stream",
     "text": [
      "+ X * Y Z\n",
      "- + 5 * 5 5 - 5 2\n"
     ]
    }
   ],
   "source": [
    "def infixToPrefix(statement):\n",
    "    tokens = statement.split()\n",
    "    tokens.reverse()\n",
    "    stack = Stack()\n",
    "    prec = {'+':2, '-':2, '*':3, '/':3, '(':1}\n",
    "    digit = [str(i) for i in range(1000)]\n",
    "    alpha = string.ascii_uppercase  # gets uppercase Alphabet\n",
    "\n",
    "    result = []\n",
    "    \n",
    "    # changes paranthesis directions\n",
    "    for i in range(len(tokens)):\n",
    "        if tokens[i] == '(':\n",
    "            tokens[i] = ')'\n",
    "        elif tokens[i] == ')':\n",
    "            tokens[i] = '('\n",
    "\n",
    "    # Goes through each token like postfix\n",
    "    for token in tokens:\n",
    "        if token in digit or token in alpha:\n",
    "            result.append(token)\n",
    "\n",
    "        elif token == '(':\n",
    "            stack.push(token)\n",
    "        \n",
    "        elif token == ')':\n",
    "            poped = stack.pop()\n",
    "            while not stack.isEmpty() and poped != '(':\n",
    "                result.append(poped)\n",
    "                poped = stack.pop()\n",
    "        \n",
    "        else:\n",
    "            while not stack.isEmpty() and prec[stack.peek()] > prec[token]:\n",
    "                result.append(stack.pop())\n",
    "            stack.push(token)\n",
    "    \n",
    "    # empty rest of stack operators onto result\n",
    "    while not stack.isEmpty():\n",
    "        result.append(stack.pop())\n",
    "    \n",
    "    result.reverse()\n",
    "\n",
    "    return ' '.join(result)\n",
    "\n",
    "print(infixToPrefix('X + Y * Z')) \n",
    "print(infixToPrefix('5 + 5 * 5 - ( 5 - 2 )'))"
   ]
  },
  {
   "cell_type": "markdown",
   "metadata": {},
   "source": [
    "#### This algorithm uses Stack to evaluate an infix expression\n",
    "Algorithm:\n",
    "- First reverses the statement and basically operates the exact same as the evaluation for postfix expression above\n",
    "- Only difference is when a operator token is encountered, operand1 will be the first token you pop from stack and operand2 will be the second which is the opposite for postfix evaluation"
   ]
  },
  {
   "cell_type": "code",
   "execution_count": 8,
   "metadata": {},
   "outputs": [
    {
     "name": "stdout",
     "output_type": "stream",
     "text": [
      "27\n"
     ]
    }
   ],
   "source": [
    "def evaluatePrefix(statement):\n",
    "    tokens = statement.split()\n",
    "    tokens.reverse()\n",
    "    stack = Stack()\n",
    "    digit = [str(i) for i in range(1000)]\n",
    "\n",
    "    for token in tokens:\n",
    "        if token in digit:\n",
    "            stack.push(token)\n",
    "\n",
    "        else:\n",
    "            operator = token\n",
    "            operand1 = stack.pop()\n",
    "            operand2 = stack.pop()\n",
    "            result = eval(operand1 + operator + operand2) # evaluates \n",
    "\n",
    "            stack.push(str(result)) # pushes a string of result to stack\n",
    "    \n",
    "    return stack.pop()\n",
    "\n",
    "print(evaluatePrefix('- + 5 * 5 5 - 5 2'))"
   ]
  }
 ],
 "metadata": {
  "kernelspec": {
   "display_name": "base",
   "language": "python",
   "name": "python3"
  },
  "language_info": {
   "codemirror_mode": {
    "name": "ipython",
    "version": 3
   },
   "file_extension": ".py",
   "mimetype": "text/x-python",
   "name": "python",
   "nbconvert_exporter": "python",
   "pygments_lexer": "ipython3",
   "version": "3.11.5"
  }
 },
 "nbformat": 4,
 "nbformat_minor": 2
}
